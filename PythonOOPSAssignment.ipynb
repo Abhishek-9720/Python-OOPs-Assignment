{
  "nbformat": 4,
  "nbformat_minor": 0,
  "metadata": {
    "colab": {
      "provenance": []
    },
    "kernelspec": {
      "name": "python3",
      "display_name": "Python 3"
    },
    "language_info": {
      "name": "python"
    }
  },
  "cells": [
    {
      "cell_type": "markdown",
      "source": [
        "#Python OOPS Assignment"
      ],
      "metadata": {
        "id": "7nx2b2glYPkh"
      }
    },
    {
      "cell_type": "markdown",
      "source": [
        "##1) What is Object-Oriented Programming (OOP)?\n",
        "-\n",
        " Object-Oriented Programming (OOP) is a programming paradigm that organizes software design around objects rather than just functions and logic. An object is a data structure that contains both data (attributes or properties) and behaviors (methods or functions) that operate on that data.\n",
        "\n",
        "OOP focuses on modeling real-world entities as objects, making it easier to design, maintain, and scale complex software systems.\n",
        "\n",
        "**Key Concepts of OOP**\n",
        "\n",
        "- Class: A blueprint for creating objects, defining their attributes and behaviors.\n",
        "\n",
        "- Object: An instance of a class, representing a specific entity with its own data and methods.\n",
        "\n",
        "- Encapsulation: Bundling data and methods that operate on the data within one unit (object), restricting direct access to some components.\n",
        "\n",
        "- Abstraction: Hiding complex implementation details and showing only the necessary features of an object.\n",
        "\n",
        "- Inheritance: Allowing new classes to inherit properties and methods from existing classes, promoting code reuse.\n",
        "\n",
        "- Polymorphism: Enabling objects to be treated as instances of their parent class, allowing for flexible and interchangeable code.\n",
        "\n",
        "**Benefits**\n",
        "\n",
        "- Code reusability and modularity\n",
        "\n",
        "- Easier maintenance and scalability\n",
        "\n",
        "- Better organization for large, complex projects\n",
        "\n",
        "##2) What is a class in OOP?\n",
        "-\n",
        "A class in object-oriented programming (OOP) is a blueprint or template for creating objects. It defines the structure and behaviors that the objects (instances) created from it will have, including their attributes (data) and methods (functions) that operate on that data.\n",
        "\n",
        "- **Attributes**: Variables that hold the state or properties of the object.\n",
        "\n",
        "- **Methods**: Functions that define the behavior or actions the object can perform.\n",
        "\n",
        "A class itself does not allocate memory; memory is only allocated when an object (instance) is created from the class. For example, a Car class might define properties like color and model, and methods like accelerate(). Each specific car we create from this class (like a red Toyota or a blue Honda) is an object with its own values for those properties.\n",
        "\n",
        "In summary, a class organizes and encapsulates information and functionality, allowing the user to create multiple objects that share the same structure but can have different data.\n",
        "\n",
        "##3)  What is an object in OOP?\n",
        "-\n",
        "An object in object-oriented programming (OOP) is an instance of a class that contains both data (attributes or properties) and behaviors (methods or functions). Objects are the core units in OOP and represent real-world or conceptual entities within a program.\n",
        "\n",
        " **Key Characteristics of an Object**\n",
        "\n",
        " **Identity**: Each object has a unique identity, distinguishing it from other objects.\n",
        "\n",
        " **State**: The data or attributes that describe the object's current condition (e.g., a person's name or age).\n",
        "\n",
        " **Behavior**: The actions or methods the object can perform (e.g., a car can drive, a person can walk).\n",
        "\n",
        " Objects interact with each other to perform tasks and model real-world scenarios, making programs more modular and easier to manage.\n",
        "\n",
        "##4)  What is the difference between abstraction and encapsulation?\n",
        "-\n",
        " **Abstraction:**\n",
        "\n",
        " - Hides complex implementation details and exposes only the essential features of an object.\n",
        "\n",
        " - Focuses on what an object does, not how it does it.\n",
        "\n",
        " - Allows users to interact with objects through simple interfaces.\n",
        "\n",
        " - Example: Using a car’s steering wheel to drive without knowing the internal mechanics.\n",
        "\n",
        " **Encapsulation:**\n",
        "\n",
        " - Bundles data (attributes) and methods (functions) that operate on the data into a single unit (object).\n",
        "\n",
        " - Restricts direct access to some components of an object, typically using access modifiers (private, public, protected).\n",
        "\n",
        " - Protects the internal state of an object and ensures data integrity.\n",
        "\n",
        " - Example: The internal workings of a car’s engine are hidden and protected under the hood; access is provided only through specific interfaces (like the ignition or pedals).\n",
        "\n",
        " **Key Difference:**\n",
        "\n",
        " - Abstraction simplifies complexity by modeling relevant classes and exposing only necessary details.\n",
        "\n",
        " - Encapsulation safeguards the internal state of objects by controlling access to their data and behaviors.\n",
        "\n",
        "##5)  What are dunder methods in Python?\n",
        "-\n",
        "Dunder methods in Python, also known as \"magic methods\" or \"special methods,\" are predefined methods that have names starting and ending with ***double underscores*** (e.g., __init__, __str__, __add__). These methods allow the class instances to interact seamlessly with Python’s built-in functions and operators, enabling behaviors like object initialization, string representation, arithmetic operations, comparisons, and more.\n",
        "\n",
        " For example, when we use the \"+\" operator between two objects, Python internally calls the __add__ method. Similarly, calling str(obj) will invoke the __str__ method of the object. By implementing dunder methods in the classes, we can customize how the objects behave in various contexts and integrate naturally with Python’s syntax and features.\n",
        "\n",
        "\n",
        "\n",
        "\n"
      ],
      "metadata": {
        "id": "4FVumA-aYheW"
      }
    },
    {
      "cell_type": "markdown",
      "source": [
        "##6)  Explain the concept of inheritance in OOP.\n",
        "-\n",
        "**Inheritance in Object-Oriented Programming (OOP)**\n",
        "\n",
        "Inheritance is a fundamental concept in object-oriented programming that allows a class (called the derived class, subclass, or child class) to inherit properties and behaviors (attributes and methods) from another class (called the base class, superclass, or parent class). This mechanism enables code reuse, making it easier to create and maintain complex software by building upon existing code rather than rewriting it.\n",
        "\n",
        "The subclass can use, extend, or override the features of the superclass, allowing for hierarchical relationships that reflect real-world categories (for example, a Car class can inherit from a Vehicle class, expressing that \"a Car is a Vehicle\"). Inheritance also supports polymorphism, meaning objects of different subclasses can be treated as instances of their common superclass.\n",
        "\n",
        "##7)  What is polymorphism in OOP?\n",
        "-\n",
        "Polymorphism in object-oriented programming (OOP) is the ability of different objects to respond in their own way to the same method or message. The term comes from the Greek words \"poly\" (many) and \"morph\" (form), meaning \"many forms\". This allows a single interface or function name to be used for different underlying data types, letting objects of different classes be treated as instances of a common superclass while each provides its own specific implementation of a method.\n",
        "\n",
        "There are two main types of polymorphism:\n",
        "\n",
        "- **Compile-time polymorphism (static polymorphism)**: Achieved through method overloading or operator overloading, where methods have the same name but differ in parameters. The method to be executed is determined at compile time.\n",
        "\n",
        "- **Run-time polymorphism (dynamic polymorphism)**: Achieved through method overriding, where a subclass provides a specific implementation of a method already defined in its superclass. The method executed is determined at runtime based on the actual object type.\n",
        "\n",
        "Polymorphism enables flexible and reusable code, allowing new subclasses to be integrated seamlessly without altering existing code, and is a core principle for building scalable and maintainable OOP systems.\n",
        "\n",
        "##8)  How is encapsulation achieved in Python?\n",
        "-\n",
        "Encapsulation in Python is achieved by bundling data (attributes) and methods within a class and controlling access to the internal state using naming conventions and special methods. Python uses three main access levels:\n",
        "\n",
        "- **Public members** (no underscore): Accessible from anywhere.\n",
        "\n",
        "- **Protected members** (single underscore, e.g., _var): Intended to be accessed within the class and its subclasses (by convention, not enforced).\n",
        "\n",
        "- **Private members** (double underscore, e.g., __var): Name-mangled to prevent direct access from outside the class, making them accessible only within the class itself.\n",
        "\n",
        "To further control access and modification, Python often uses getter and setter methods, allowing safe and validated interaction with private attributes. This approach helps maintain data integrity and hides implementation details from external code.\n",
        "\n",
        "##9)  What is a constructor in Python?\n",
        "-\n",
        "A constructor in Python is a special method called \" __init__ \" that is automatically executed when a new object of a class is created. Its main purpose is to initialize the object's attributes with specific values, setting up the initial state of the object. The __init__ method always takes self as its first parameter, which refers to the instance being created. Constructors can be defined to accept additional arguments, allowing for both default (no arguments) and parameterized (with arguments) initialization of objects. For example:\n",
        "\n",
        "    class Person:\n",
        "      def __init__(self, name, age):\n",
        "        self.name = name\n",
        "        self.age = age\n",
        "\n",
        "    person = Person(\"John\", 30)\n",
        "In this example, the __init__ method sets the name and age attributes when a Person object is created.\n",
        "\n",
        "##10)  What are class and static methods in Python?\n",
        "-\n",
        "**Class and Static Methods in Python**\n",
        "\n",
        "Class methods and static methods are two special types of methods we can define inside Python classes, each serving different purposes:\n",
        "\n",
        "**Class Methods:**\n",
        "\n",
        "- Defined with the @classmethod decorator.\n",
        "\n",
        "- Take cls (the class itself) as their first parameter, not self.\n",
        "\n",
        "- Can access and modify class-level attributes, but not instance-specific data.\n",
        "\n",
        "- Commonly used for factory methods or alternative constructors that need to create or modify class state.\n",
        "\n",
        "**Static Methods:**\n",
        "\n",
        "- Defined with the @staticmethod decorator.\n",
        "\n",
        "- Do not take self or cls as their first parameter.\n",
        "\n",
        "- Cannot access or modify class or instance attributes directly.\n",
        "\n",
        "- Used for utility functions related to the class, but independent of class or instance state.\n",
        "\n",
        "In summary:\n",
        "\n",
        "Class methods operate on the class itself and can modify class-level data, while static methods are independent functions grouped within the class for organizational purposes. Both can be called on the class or an instance, but only class methods receive the class as an argument.\n",
        "\n"
      ],
      "metadata": {
        "id": "nZHDVXpSeI6V"
      }
    },
    {
      "cell_type": "markdown",
      "source": [
        "##11)  What is method overloading in Python?\n",
        "-\n",
        "Method overloading in Python refers to the ability to define a method that can behave differently based on the number or type of arguments passed to it. Unlike languages like Java or C++, Python does not natively support traditional method overloading, where we can define multiple methods with the same name but different parameter lists-only the last defined method is used.\n",
        "\n",
        "However, we can achieve similar functionality by:\n",
        "\n",
        "- Using default argument values, so the method can be called with different numbers of arguments.\n",
        "\n",
        "- Using variable-length arguments (*args and **kwargs) to accept any number or type of arguments and handle them within the method.\n",
        "\n",
        "- Employing third-party libraries like ***multipledispatch*** for true method overloading based on argument types.\n",
        "\n",
        "This approach allows a single method to handle various argument scenarios, providing flexibility and adaptability in the code.\n",
        "\n",
        "##12)  What is method overriding in OOP?\n",
        "-\n",
        "Method overriding in object-oriented programming (OOP) is a feature that allows a subclass (child class) to provide its own specific implementation of a method that is already defined in its superclass (parent class). To override a method, the subclass defines a method with the same name and signature as the one in the parent class. When the method is called on an object of the subclass, the overridden version in the subclass is executed, replacing the behavior of the parent class’s method for that object. This enables polymorphism, allowing the same method name to exhibit different behaviors depending on the object’s class, and is commonly used to tailor or extend functionality in more specialized subclasses.\n",
        "\n",
        "##13) What is a property decorator in Python?\n",
        "-\n",
        "A property decorator in Python, denoted by \"@property\", is a built-in decorator that allows the user to define methods in a class that can be accessed like attributes. This means we can write methods to get, set, or delete the value of an attribute, but use them as if we are accessing or modifying a simple attribute, not calling a method.\n",
        "\n",
        "The \"@property\" decorator is typically used to control access to private attributes, enabling the user to add logic such as validation or computation when getting or setting a value, all while keeping a clean and intuitive interface. We also define setter and deleter methods using @<property_name>.setter and @<property_name>.deleter decorators, respectively.\n",
        "\n",
        "This approach combines the benefits of encapsulation with the simplicity of attribute access, making your code more readable and maintainable.\n",
        "\n",
        "    class Person:\n",
        "      def __init__(self, name):\n",
        "        self._name = name  # Private attribute (by convention)\n",
        "\n",
        "      @property\n",
        "      def name(self):\n",
        "          \"\"\"Getter method to access the name.\"\"\"\n",
        "          return self._name\n",
        "\n",
        "      @name.setter\n",
        "      def name(self, value):\n",
        "          \"\"\"Setter method to update the name with validation.\"\"\"\n",
        "          if not value:\n",
        "              raise ValueError(\"Name cannot be empty.\")\n",
        "          self._name = value\n",
        "\n",
        "      @name.deleter\n",
        "      def name(self):\n",
        "          \"\"\"Deleter method to delete the name.\"\"\"\n",
        "          print(\"Deleting name...\")\n",
        "          del self._name\n",
        "\n",
        "      # Usage\n",
        "    person = Person(\"Alice\")\n",
        "    print(person.name)      # Accesses the name via the getter\n",
        "\n",
        "    person.name = \"Bob\"     # Updates the name via the setter\n",
        "    print(person.name)\n",
        "\n",
        "    del person.name         # Deletes the name via the deleter\n",
        "\n",
        "\n",
        "**Explanation:**\n",
        "- @property makes the name() method act like an attribute getter.\n",
        "\n",
        "- @name.setter allows you to set the value with validation.\n",
        "\n",
        "- @name.deleter lets you define custom behavior when deleting the attribute.\n",
        "\n",
        "We interact with **person.name** as if it were a plain attribute, but we get the benefits of method logic behind the scenes.\n",
        "\n",
        "##14)  Why is polymorphism important in OOP?\n",
        "-\n",
        "Polymorphism is important in object-oriented programming (OOP) because it allows different objects to be accessed through a common interface, enabling a single action or method name to operate on various types of objects, each with their own specific behavior. This leads to several key benefits:\n",
        "\n",
        "- Code Reusability: You can write generic code that works with different object types, reducing redundancy and making it easier to maintain and extend.\n",
        "\n",
        "- Flexibility and Extensibility: New subclasses can be added with minimal changes to existing code, supporting growth and adaptability in software projects.\n",
        "\n",
        "- Cleaner, More Organized Code: By unifying method names and interfaces, polymorphism keeps codebases less cluttered and easier to read and debug.\n",
        "\n",
        "- Simplified Maintenance: Updates or bug fixes can be made in one place, without the need to modify multiple versions of similar code.\n",
        "\n",
        "- Enhanced Collaboration: Teams can work more efficiently with unified interfaces, reducing naming conflicts and redundant definitions.\n",
        "\n",
        "In summary, polymorphism streamlines development, encourages modular design, and makes it easier to build, scale, and maintain complex software systems.\n",
        "\n",
        "##15) What is an abstract class in Python?\n",
        "-\n",
        "An abstract class in Python is a class that serves as a blueprint for other classes and cannot be instantiated directly. It is used to define methods that must be implemented by any subclass, ensuring a consistent interface across different implementations. Abstract classes are created by subclassing from ABC (Abstract Base Class) and using the @abstractmethod decorator to specify abstract methods-methods that have no implementation in the abstract class and must be overridden in subclasses.\n",
        "\n",
        "    from abc import ABC, abstractmethod\n",
        "\n",
        "    class Vehicle(ABC):\n",
        "        @abstractmethod\n",
        "        def start_engine(self):\n",
        "            pass\n",
        "\n",
        "        @abstractmethod\n",
        "        def stop_engine(self):\n",
        "            pass\n",
        "\n",
        "    class Car(Vehicle):\n",
        "        def start_engine(self):\n",
        "            print(\"Car engine started\")\n",
        "\n",
        "        def stop_engine(self):\n",
        "            print(\"Car engine stopped\")\n",
        "\n",
        "In this example, Vehicle is an abstract class with two abstract methods. Any subclass, like Car, must implement these methods. Attempting to instantiate Vehicle directly will raise an error, enforcing the contract that all subclasses provide the required functionality.\n",
        "\n",
        "Abstract classes can also contain concrete methods (methods with implementations) that can be inherited by subclasses, promoting code reuse and consistency."
      ],
      "metadata": {
        "id": "x1gd-BpZhLAV"
      }
    },
    {
      "cell_type": "markdown",
      "source": [
        "##16)  What are the advantages of OOP?\n",
        "-\n",
        "**Advantages of Object-Oriented Programming (OOP)**\n",
        "\n",
        "- Code Reusability: OOP allows developers to reuse code through inheritance, reducing duplication and saving development time. Classes and objects can be used across different projects or modules.\n",
        "\n",
        "- Modularity and Organization: Complex software can be broken down into smaller, manageable objects, making programs easier to develop, maintain, and expand.\n",
        "\n",
        "- Easier Troubleshooting and Maintenance: Encapsulation keeps code modular, so errors are easier to isolate and fix. Each object can be tested and debugged independently.\n",
        "\n",
        "- Flexibility and Scalability: OOP supports polymorphism and abstraction, allowing for easy modification, extension, and scaling of software without affecting the entire codebase.\n",
        "\n",
        "- Improved Security: Encapsulation protects sensitive data within classes, limiting access and reducing the risk of unintended data corruption.\n",
        "\n",
        "- Collaboration: Teams can work on different objects or classes independently, streamlining collaboration and development.\n",
        "\n",
        "- Consistent Interface: OOP enables the creation of standard interfaces, making it easier for different parts of a program to interact.\n",
        "\n",
        "- Productivity: By promoting code reuse, modularity, and easier debugging, OOP increases overall development productivity.\n",
        "\n",
        "In summary, OOP makes software development more efficient, organized, secure, and adaptable to change.\n",
        "\n",
        "##17)  What is the difference between a class variable and an instance variable?\n",
        "-\n",
        "The main difference between a class variable and an instance variable is how they are stored and shared among objects:\n",
        "\n",
        "- **Class Variable:**\n",
        "\n",
        " - Shared by all instances of a class; only one copy exists, regardless of how many objects are created.\n",
        "\n",
        " - Defined within the class but outside any instance methods.\n",
        "\n",
        " - Changing a class variable affects all instances of the class.\n",
        "\n",
        " - Useful for data or constants that should be the same across all objects (e.g., a company name or a counter tracking the number of instances).\n",
        "\n",
        "- **Instance Variable:**\n",
        "\n",
        " - Unique to each object (instance) of the class; each object has its own separate copy.\n",
        "\n",
        " - Defined inside methods (usually __init__) using self.\n",
        "\n",
        " - Changing an instance variable only affects that specific object.\n",
        "\n",
        " - Used for data that should be different for each object (e.g., a person’s name or age).\n",
        "\n",
        "**In summary:**\n",
        "\n",
        "Class variables are shared by all instances, while instance variables are unique to each instance.\n",
        "\n",
        "##18) What is multiple inheritance in Python?\n",
        "-\n",
        "Multiple inheritance in Python is a feature that allows a class (known as the child or derived class) to inherit attributes and methods from more than one parent class. This means a single child class can access and use the properties and behaviors of multiple parent classes, enabling greater code reuse and flexibility.\n",
        "\n",
        "To define multiple inheritance, you simply list multiple parent classes in the parentheses when declaring the child class. For example:\n",
        "\n",
        "    class Parent1:\n",
        "        pass\n",
        "\n",
        "    class Parent2:\n",
        "        pass\n",
        "\n",
        "    class Child(Parent1, Parent2):\n",
        "        pass\n",
        "\n",
        "Here, Child inherits from both Parent1 and Parent2, gaining access to all their features.\n",
        "\n",
        "Python manages potential conflicts (like methods with the same name in different parents) using the Method Resolution Order (MRO), which determines the order in which classes are searched for attributes and methods.\n",
        "\n",
        "**Advantages:**\n",
        "\n",
        "- Promotes code reuse and modularity.\n",
        "\n",
        "- Allows modeling of complex relationships.\n",
        "\n",
        "**Disadvantages:**\n",
        "\n",
        "- Can introduce complexity and ambiguity, especially if parent classes have overlapping methods or attributes (known as the \"diamond problem\").\n",
        "\n",
        "##19) Explain the purpose of ‘’__str__’ and ‘__repr__’ ‘ methods in Python.\n",
        "-\n",
        "The \" __ str __ \" and \" __ repr __ \" methods in Python are special (dunder) methods used to define how objects are represented as strings.\n",
        "\n",
        "- \" __ str __ \" is intended to return a user-friendly, readable string representation of an object. It is called by the str() function and the print() statement, and should provide a concise and clear description suitable for end users.\n",
        "\n",
        "- \" __ repr __ \" is meant to provide an unambiguous, detailed string representation of an object, primarily for developers and debugging. It is called by the repr() function and in the interactive interpreter. Ideally, the output of \" __ repr __ \" should be a valid Python expression that could be used to recreate the object, or at least give enough detail for debugging.\n",
        "\n",
        "If \" __ str __ \" is not defined, Python falls back to using \" __ repr __ \" for string representations.\n",
        "\n",
        "In summary:\n",
        "\n",
        "- \" __ str __ \" is for users (human-readable).\n",
        "\n",
        "- \" __ repr __ \" is for developers (unambiguous and detailed).\n",
        "\n",
        "##20)  What is the significance of the ‘super()’ function in Python?\n",
        "-\n",
        "The super() function in Python is significant because it allows a subclass to access methods and properties of its parent (super) class without explicitly naming the parent. This is especially useful in inheritance, as it helps us call and extend the behavior of methods from the superclass, such as constructors (__init__) or other overridden methods.\n",
        "\n",
        "Key benefits include:\n",
        "\n",
        "- Simplifies code maintenance: You don’t need to hardcode the parent class name, making code more flexible and easier to update if the class hierarchy changes.\n",
        "\n",
        "- Supports multiple inheritance: super() ensures the correct method resolution order (MRO) is followed, which is crucial when a class inherits from multiple parents.\n",
        "\n",
        "- Promotes cooperative inheritance: It enables all classes in a hierarchy to participate in method calls, allowing for more robust and reusable code.\n",
        "\n",
        "In summary, super() streamlines access to parent class functionality, supports complex inheritance structures, and helps keep code clean and maintainable."
      ],
      "metadata": {
        "id": "qGMC8vK0lqjv"
      }
    },
    {
      "cell_type": "markdown",
      "source": [
        "##21)  What is the significance of the __del__ method in Python?\n",
        "-\n",
        "**Significance of the __del__ Method in Python**\n",
        "\n",
        "- **Purpose and Behavior**\n",
        "\n",
        "  The __del__ method in Python is a special method known as a finalizer. It is called automatically right before an object is destroyed by the garbage collector, which happens after all references to the object are gone.\n",
        "\n",
        "  Its main role is to provide a way to clean up resources or perform final actions before the object is removed from memory, such as closing files or network connections.\n",
        "\n",
        "- **Key Points**\n",
        "\n",
        " - The timing of \" __ del __ \" is controlled by Python's garbage collector, not directly by the programmer or the del statement. The del statement only removes a reference, and the object is destroyed (and \" __ del __ \" called) only when there are no remaining references.\n",
        "\n",
        " - Exceptions raised inside \" __ del __ \" are not propagated; they are silently ignored, though messages may be sent to standard error.\n",
        "\n",
        " - Using \" __ del __ \" for resource cleanup is discouraged in favor of context managers (with statement), as the exact timing of \" __ del __ \" execution is unpredictable.\n",
        "\n",
        "##22) What is the difference between @staticmethod and @classmethod in Python?\n",
        " -\n",
        "- **@staticmethod**\n",
        "\n",
        " - Does not take self or cls as the first parameter.\n",
        "\n",
        " - Cannot access or modify class state or instance state.\n",
        "\n",
        " - Behaves like a plain function, just organized inside a class.\n",
        "\n",
        " - Called using either the class or an instance: Class.method() or instance.method().\n",
        "\n",
        " - Used for utility functions that have a logical connection to the class.\n",
        "\n",
        "- **@classmethod**\n",
        "\n",
        " - Takes cls (the class itself) as the first parameter.\n",
        "\n",
        " - Can access and modify class state, but not instance state.\n",
        "\n",
        " - Useful for defining factory methods or alternative constructors.\n",
        "\n",
        " - Called using either the class or an instance: Class.method() or instance.method().\n",
        "\n",
        " - Can create or return class instances.\n",
        "\n",
        "Example:\n",
        "\n",
        "\n",
        "    class Demo:\n",
        "        @staticmethod\n",
        "        def greet():\n",
        "            print(\"Hello!\")\n",
        "\n",
        "        @classmethod\n",
        "        def from_value(cls, value):\n",
        "            return cls(value)\n",
        "\n",
        "\n",
        "Demo.greet() is a static method.\n",
        "\n",
        "Demo.from_value(10) is a class method.\n",
        "\n",
        "\n",
        "##23)  How does polymorphism work in Python with inheritance?\n",
        "-\n",
        "Polymorphism means \"many forms\"-it allows objects of different classes to be treated as objects of a common superclass, especially when they share method names.\n",
        "\n",
        "In Python, inheritance enables a subclass to inherit methods and attributes from a parent class. Subclasses can also override these methods to provide specific behavior.\n",
        "\n",
        "How it works:\n",
        "\n",
        "If a parent class defines a method, and a subclass overrides it with its own version, we can call this method on an instance of either class, and the correct version will be executed according to the object's actual class.\n",
        "\n",
        "This allows us to write code that works on the parent class type, but at runtime, the appropriate subclass method is called (dynamic method dispatch).\n",
        "\n",
        "For example, if both Dog and Cat inherit from Animal and each overrides a method like make_sound(), you can loop through a list of Animal objects and call make_sound() on each-each object will respond in its own way.\n",
        "\n",
        "Example:\n",
        "\n",
        "    class Animal:\n",
        "        def speak(self):\n",
        "            print(\"Animal speaks\")\n",
        "\n",
        "    class Dog(Animal):\n",
        "        def speak(self):\n",
        "            print(\"Woof!\")\n",
        "\n",
        "    class Cat(Animal):\n",
        "        def speak(self):\n",
        "            print(\"Meow!\")\n",
        "\n",
        "    animals = [Dog(), Cat()]\n",
        "    for animal in animals:\n",
        "        animal.speak()  # Output: Woof! then Meow!\n",
        "Here, both Dog and Cat override the speak method from Animal, demonstrating polymorphism via inheritance.\n",
        "\n",
        "Summary:\n",
        "\n",
        "Polymorphism with inheritance lets you use a common interface (method name) for different subclasses, and Python will automatically choose the correct method implementation at runtime based on the object's class.\n",
        "\n",
        "##24) What is method chaining in Python OOP?\n",
        "-\n",
        "**Method Chaining in Python OOP**\n",
        "\n",
        " - Method chaining is a programming pattern where multiple methods are called sequentially on the same object, all in a single line of code.\n",
        "\n",
        " = Each method in the chain returns the object itself (usually self), allowing the next method to be called directly on the result.\n",
        "\n",
        " - This pattern improves code readability and reduces the need for intermediate variables.\n",
        "\n",
        " - Common in libraries like Pandas and NumPy, and can be implemented in custom classes by having each method return self.\n",
        "\n",
        "**Example:**\n",
        "\n",
        "    class Calculator:\n",
        "        def add(self, x):\n",
        "            self.value += x\n",
        "            return self\n",
        "        def multiply(self, y):\n",
        "            self.value *= y\n",
        "            return self\n",
        "\n",
        "    calc = Calculator()\n",
        "    calc.value = 2\n",
        "    result = calc.add(3).multiply(4)  # Chained calls\n",
        "    print(result.value)  # Output: 20\n",
        "Here, add and multiply return self, enabling chaining like calc.add(3).multiply(4).\n",
        "\n",
        "##25) What is the purpose of the \" __ call __ \" method in Python?\n",
        "-\n",
        "The purpose of the \" __ call __ \" method in Python is to make instances of a class behave like functions, meaning we can \"call\" the object using parentheses as if it were a regular function. When we define \" __ call __ \" in a class, Python will execute this method whenever the instance is called, allowing us to encapsulate function-like behavior along with object state.\n",
        "\n",
        "This is useful for:\n",
        "\n",
        "- Creating objects that act like functions but can also maintain internal state.\n",
        "\n",
        "- Implementing function factories or mathematical objects (like polynomials).\n",
        "\n",
        "- Building decorators as callable classes.\n",
        "\n",
        "In summary, \" __ call __ \" turns your objects into callable objects, enabling more flexible and organized code design.\n",
        "\n"
      ],
      "metadata": {
        "id": "ZAr69X4FukaU"
      }
    },
    {
      "cell_type": "markdown",
      "source": [
        "#Practical Questions"
      ],
      "metadata": {
        "id": "yt5nqJzhCSXL"
      }
    },
    {
      "cell_type": "code",
      "source": [
        "#1)  Create a parent class Animal with a method speak() that prints a generic message. Create a child class Dog that overrides the speak() method to print \"Bark!\".\n",
        "\n",
        "# Parent class\n",
        "class Animal:\n",
        "    def speak(self):\n",
        "        print(\"The animal makes a sound.\")\n",
        "\n",
        "# Child class\n",
        "class Dog(Animal):\n",
        "    def speak(self):\n",
        "        print(\"Bark!\")\n",
        "\n",
        "# Example usage\n",
        "a = Animal()\n",
        "a.speak()\n",
        "\n",
        "d = Dog()\n",
        "d.speak()\n"
      ],
      "metadata": {
        "colab": {
          "base_uri": "https://localhost:8080/"
        },
        "id": "1q7QKS1YCcCu",
        "outputId": "75e8452d-8155-4eb3-8b42-908de7f07c8b"
      },
      "execution_count": 1,
      "outputs": [
        {
          "output_type": "stream",
          "name": "stdout",
          "text": [
            "The animal makes a sound.\n",
            "Bark!\n"
          ]
        }
      ]
    },
    {
      "cell_type": "code",
      "source": [
        "# 2)  Write a program to create an abstract class Shape with a method area(). Derive classes Circle and Rectangle from it and implement the area() method in both.\n",
        "\n",
        "from abc import ABC, abstractmethod\n",
        "import math\n",
        "\n",
        "# Abstract class\n",
        "class Shape(ABC):\n",
        "    @abstractmethod\n",
        "    def area(self):\n",
        "        pass\n",
        "\n",
        "# Derived class: Circle\n",
        "class Circle(Shape):\n",
        "    def __init__(self, radius):\n",
        "        self.radius = radius\n",
        "\n",
        "    def area(self):\n",
        "        return math.pi * self.radius ** 2\n",
        "\n",
        "# Derived class: Rectangle\n",
        "class Rectangle(Shape):\n",
        "    def __init__(self, width, height):\n",
        "        self.width = width\n",
        "        self.height = height\n",
        "\n",
        "    def area(self):\n",
        "        return self.width * self.height\n",
        "\n",
        "# Example usage\n",
        "c = Circle(5)\n",
        "print(f\"Area of Circle: {c.area():.2f}\")\n",
        "\n",
        "r = Rectangle(4, 6)\n",
        "print(f\"Area of Rectangle: {r.area()}\")\n"
      ],
      "metadata": {
        "colab": {
          "base_uri": "https://localhost:8080/"
        },
        "id": "Z9zY0rjfDSIu",
        "outputId": "8faf8d1c-213d-4f2f-b713-51651c8b43b6"
      },
      "execution_count": 2,
      "outputs": [
        {
          "output_type": "stream",
          "name": "stdout",
          "text": [
            "Area of Circle: 78.54\n",
            "Area of Rectangle: 24\n"
          ]
        }
      ]
    },
    {
      "cell_type": "code",
      "source": [
        "#3)  Implement a multi-level inheritance scenario where a class Vehicle has an attribute type. Derive a class Car and further derive a class ElectricCar that adds a battery attribute.\n",
        "\n",
        "# Base class\n",
        "class Vehicle:\n",
        "    def __init__(self, vehicle_type):\n",
        "        self.type = vehicle_type\n",
        "\n",
        "# Derived class\n",
        "class Car(Vehicle):\n",
        "    def __init__(self, vehicle_type, brand):\n",
        "        super().__init__(vehicle_type)\n",
        "        self.brand = brand\n",
        "\n",
        "# Further derived class\n",
        "class ElectricCar(Car):\n",
        "    def __init__(self, vehicle_type, brand, battery_capacity):\n",
        "        super().__init__(vehicle_type, brand)\n",
        "        self.battery = battery_capacity\n",
        "\n",
        "    def display_info(self):\n",
        "        print(f\"Type: {self.type}\")\n",
        "        print(f\"Brand: {self.brand}\")\n",
        "        print(f\"Battery Capacity: {self.battery} kWh\")\n",
        "\n",
        "# Example usage\n",
        "my_electric_car = ElectricCar(\"Sedan\", \"Tesla\", 75)\n",
        "my_electric_car.display_info()\n"
      ],
      "metadata": {
        "colab": {
          "base_uri": "https://localhost:8080/"
        },
        "id": "E6LhkLH3D2B8",
        "outputId": "847c86a2-c47c-4fda-cc77-28b6ca2e35d1"
      },
      "execution_count": 3,
      "outputs": [
        {
          "output_type": "stream",
          "name": "stdout",
          "text": [
            "Type: Sedan\n",
            "Brand: Tesla\n",
            "Battery Capacity: 75 kWh\n"
          ]
        }
      ]
    },
    {
      "cell_type": "code",
      "source": [
        "#4)  Demonstrate polymorphism by creating a base class Bird with a method fly(). Create two derived classes Sparrow and Penguin that override the fly() method.\n",
        "\n",
        "# Base class\n",
        "class Bird:\n",
        "    def fly(self):\n",
        "        print(\"Some birds can fly.\")\n",
        "\n",
        "# Derived class: Sparrow\n",
        "class Sparrow(Bird):\n",
        "    def fly(self):\n",
        "        print(\"Sparrow flies high in the sky.\")\n",
        "\n",
        "# Derived class: Penguin\n",
        "class Penguin(Bird):\n",
        "    def fly(self):\n",
        "        print(\"Penguins can't fly, they swim.\")\n",
        "\n",
        "# Demonstrating polymorphism\n",
        "birds = [Sparrow(), Penguin()]\n",
        "\n",
        "for bird in birds:\n",
        "    bird.fly()\n"
      ],
      "metadata": {
        "colab": {
          "base_uri": "https://localhost:8080/"
        },
        "id": "aJr_8m2pEOxA",
        "outputId": "c72243d3-b84d-4bab-c948-dae5d0e658e0"
      },
      "execution_count": 4,
      "outputs": [
        {
          "output_type": "stream",
          "name": "stdout",
          "text": [
            "Sparrow flies high in the sky.\n",
            "Penguins can't fly, they swim.\n"
          ]
        }
      ]
    },
    {
      "cell_type": "code",
      "source": [
        "#5)  Write a program to demonstrate encapsulation by creating a class BankAccount with private attributes balance and methods to deposit, withdraw, and check balance.\n",
        "\n",
        "class BankAccount:\n",
        "    def __init__(self, initial_balance=0):\n",
        "        self.__balance = initial_balance  # Private attribute\n",
        "\n",
        "    def deposit(self, amount):\n",
        "        if amount > 0:\n",
        "            self.__balance += amount\n",
        "            print(f\"Deposited: {amount}\")\n",
        "        else:\n",
        "            print(\"Deposit amount must be positive.\")\n",
        "\n",
        "    def withdraw(self, amount):\n",
        "        if 0 < amount <= self.__balance:\n",
        "            self.__balance -= amount\n",
        "            print(f\"Withdrawn: {amount}\")\n",
        "        else:\n",
        "            print(\"Insufficient balance or invalid amount.\")\n",
        "\n",
        "    def check_balance(self):\n",
        "        print(f\"Current Balance: {self.__balance}\")\n",
        "\n",
        "# Example usage\n",
        "account = BankAccount(100)\n",
        "account.check_balance()\n",
        "\n",
        "account.deposit(50)\n",
        "account.check_balance()\n",
        "\n",
        "account.withdraw(70)\n",
        "account.check_balance()\n",
        "\n",
        "account.withdraw(200)\n",
        "\n",
        "\n"
      ],
      "metadata": {
        "colab": {
          "base_uri": "https://localhost:8080/"
        },
        "id": "AtTiSQLEEgVc",
        "outputId": "6dacae53-d915-41b2-937c-2ad11c58e3a4"
      },
      "execution_count": 5,
      "outputs": [
        {
          "output_type": "stream",
          "name": "stdout",
          "text": [
            "Current Balance: 100\n",
            "Deposited: 50\n",
            "Current Balance: 150\n",
            "Withdrawn: 70\n",
            "Current Balance: 80\n",
            "Insufficient balance or invalid amount.\n"
          ]
        }
      ]
    },
    {
      "cell_type": "code",
      "source": [
        "#6) Demonstrate runtime polymorphism using a method play() in a base class Instrument. Derive classes Guitar and Piano that implement their own version of play().\n",
        "\n",
        "class Instrument:\n",
        "    def play(self):\n",
        "        print(\"Playing an instrument.\")\n",
        "\n",
        "class Guitar(Instrument):\n",
        "    def play(self):\n",
        "        print(\"Strumming the guitar.\")\n",
        "\n",
        "class Piano(Instrument):\n",
        "    def play(self):\n",
        "        print(\"Playing the piano.\")\n",
        "\n",
        "# Demonstrating runtime polymorphism\n",
        "instruments = [Guitar(), Piano()]\n",
        "\n",
        "for instrument in instruments:\n",
        "    instrument.play()\n"
      ],
      "metadata": {
        "colab": {
          "base_uri": "https://localhost:8080/"
        },
        "id": "qcHWjmujFPev",
        "outputId": "d949f8c0-b175-4aec-8757-669ed27603a6"
      },
      "execution_count": 6,
      "outputs": [
        {
          "output_type": "stream",
          "name": "stdout",
          "text": [
            "Strumming the guitar.\n",
            "Playing the piano.\n"
          ]
        }
      ]
    },
    {
      "cell_type": "code",
      "source": [
        "#7) Create a class MathOperations with a class method add_numbers() to add two numbers and a static method subtract_numbers() to subtract two numbers.\n",
        "\n",
        "class MathOperations:\n",
        "    @classmethod\n",
        "    def add_numbers(cls, a, b):\n",
        "        return a + b\n",
        "\n",
        "    @staticmethod\n",
        "    def subtract_numbers(a, b):\n",
        "        return a - b\n",
        "\n",
        "# Example usage\n",
        "sum_result = MathOperations.add_numbers(10, 5)\n",
        "print(f\"Sum: {sum_result}\")\n",
        "\n",
        "difference = MathOperations.subtract_numbers(10, 5)\n",
        "print(f\"Difference: {difference}\")\n"
      ],
      "metadata": {
        "colab": {
          "base_uri": "https://localhost:8080/"
        },
        "id": "aIfuXpyFFiA2",
        "outputId": "dfd2c4c2-e403-4054-b2c5-8f2afc8922d3"
      },
      "execution_count": 7,
      "outputs": [
        {
          "output_type": "stream",
          "name": "stdout",
          "text": [
            "Sum: 15\n",
            "Difference: 5\n"
          ]
        }
      ]
    },
    {
      "cell_type": "code",
      "source": [
        "#8) Implement a class Person with a class method to count the total number of persons created.\n",
        "\n",
        "class Person:\n",
        "    count = 0  # Class variable to keep track of number of persons\n",
        "\n",
        "    def __init__(self, name):\n",
        "        self.name = name\n",
        "        Person.count += 1\n",
        "\n",
        "    @classmethod\n",
        "    def total_persons(cls):\n",
        "        return cls.count\n",
        "\n",
        "# Example usage\n",
        "p1 = Person(\"Alice\")\n",
        "p2 = Person(\"Bob\")\n",
        "p3 = Person(\"Charlie\")\n",
        "\n",
        "print(f\"Total persons created: {Person.total_persons()}\")\n"
      ],
      "metadata": {
        "colab": {
          "base_uri": "https://localhost:8080/"
        },
        "id": "zFgNJ7doFzke",
        "outputId": "3be1763c-e789-412d-e810-5a325e959175"
      },
      "execution_count": 8,
      "outputs": [
        {
          "output_type": "stream",
          "name": "stdout",
          "text": [
            "Total persons created: 3\n"
          ]
        }
      ]
    },
    {
      "cell_type": "code",
      "source": [
        "#9) . Write a class Fraction with attributes numerator and denominator. Override the str method to display the fraction as \"numerator/denominator\".\n",
        "\n",
        "class Fraction:\n",
        "    def __init__(self, numerator, denominator):\n",
        "        self.numerator = numerator\n",
        "        self.denominator = denominator\n",
        "\n",
        "    def __str__(self):\n",
        "        return f\"{self.numerator}/{self.denominator}\"\n",
        "\n",
        "# Example usage\n",
        "f1 = Fraction(3, 4)\n",
        "f2 = Fraction(7, 2)\n",
        "\n",
        "print(f1)\n",
        "print(f2)\n"
      ],
      "metadata": {
        "colab": {
          "base_uri": "https://localhost:8080/"
        },
        "id": "Y0Lda9w0GK24",
        "outputId": "484b4d2d-b496-4048-ba94-7148c4a68c65"
      },
      "execution_count": 9,
      "outputs": [
        {
          "output_type": "stream",
          "name": "stdout",
          "text": [
            "3/4\n",
            "7/2\n"
          ]
        }
      ]
    },
    {
      "cell_type": "code",
      "source": [
        "#10) Demonstrate operator overloading by creating a class Vector and overriding the add method to add two vectors.\n",
        "\n",
        "class Vector:\n",
        "    def __init__(self, x, y):\n",
        "        self.x = x\n",
        "        self.y = y\n",
        "\n",
        "    def __add__(self, other):\n",
        "        if isinstance(other, Vector):\n",
        "            return Vector(self.x + other.x, self.y + other.y)\n",
        "        else:\n",
        "            raise TypeError(\"Operand must be a Vector\")\n",
        "\n",
        "    def __str__(self):\n",
        "        return f\"Vector({self.x}, {self.y})\"\n",
        "\n",
        "# Example usage\n",
        "v1 = Vector(1, 2)\n",
        "v2 = Vector(3, 4)\n",
        "result = v1 + v2\n",
        "print(result)\n"
      ],
      "metadata": {
        "colab": {
          "base_uri": "https://localhost:8080/"
        },
        "id": "5t_ryuDzGbUo",
        "outputId": "f458d6fe-14ef-473b-eec7-c14228058cef"
      },
      "execution_count": 10,
      "outputs": [
        {
          "output_type": "stream",
          "name": "stdout",
          "text": [
            "Vector(4, 6)\n"
          ]
        }
      ]
    },
    {
      "cell_type": "code",
      "source": [
        "#11) Create a class Person with attributes name and age. Add a method greet() that prints \"Hello, my name is {name} and I am {age} years old.\"\n",
        "\n",
        "class Person:\n",
        "    def __init__(self, name, age):\n",
        "        self.name = name\n",
        "        self.age = age\n",
        "\n",
        "    def greet(self):\n",
        "        print(f\"Hello, my name is {self.name} and I am {self.age} years old.\")\n",
        "\n",
        "# Example usage\n",
        "p1 = Person(\"Alice\", 25)\n",
        "p1.greet()\n",
        "\n",
        "p2 = Person(\"Bob\", 30)\n",
        "p2.greet()\n"
      ],
      "metadata": {
        "colab": {
          "base_uri": "https://localhost:8080/"
        },
        "id": "q0foAPHQGp7M",
        "outputId": "63f0e482-4555-44f4-c3ce-72bda9273ed5"
      },
      "execution_count": 12,
      "outputs": [
        {
          "output_type": "stream",
          "name": "stdout",
          "text": [
            "Hello, my name is Alice and I am 25 years old.\n",
            "Hello, my name is Bob and I am 30 years old.\n"
          ]
        }
      ]
    },
    {
      "cell_type": "code",
      "source": [
        "#12) Implement a class Student with attributes name and grades. Create a method average_grade() to compute the average of the grades.\n",
        "\n",
        "class Student:\n",
        "    def __init__(self, name, grades):\n",
        "        self.name = name\n",
        "        self.grades = grades  # grades should be a list of numbers\n",
        "\n",
        "    def average_grade(self):\n",
        "        if not self.grades:\n",
        "            return 0\n",
        "        return sum(self.grades) / len(self.grades)\n",
        "\n",
        "# Example usage\n",
        "s1 = Student(\"Alice\", [85, 90, 78])\n",
        "print(f\"{s1.name}'s average grade: {s1.average_grade():.2f}\")\n",
        "\n",
        "s2 = Student(\"Bob\", [92, 88])\n",
        "print(f\"{s2.name}'s average grade: {s2.average_grade():.2f}\")\n"
      ],
      "metadata": {
        "colab": {
          "base_uri": "https://localhost:8080/"
        },
        "id": "zMm_8GLiG7A2",
        "outputId": "a3ca0b65-5da4-453e-9127-c0f0e3e13f3e"
      },
      "execution_count": 13,
      "outputs": [
        {
          "output_type": "stream",
          "name": "stdout",
          "text": [
            "Alice's average grade: 84.33\n",
            "Bob's average grade: 90.00\n"
          ]
        }
      ]
    },
    {
      "cell_type": "code",
      "source": [
        "#13)  Create a class Rectangle with methods set_dimensions() to set the dimensions and area() to calculate the area.\n",
        "\n",
        "class Rectangle:\n",
        "    def __init__(self):\n",
        "        self.length = 0\n",
        "        self.width = 0\n",
        "\n",
        "    def set_dimensions(self, length, width):\n",
        "        self.length = length\n",
        "        self.width = width\n",
        "\n",
        "    def area(self):\n",
        "        return self.length * self.width\n",
        "\n",
        "# Example usage\n",
        "rect = Rectangle()\n",
        "rect.set_dimensions(5, 3)\n",
        "print(f\"Area of rectangle: {rect.area()}\")\n"
      ],
      "metadata": {
        "colab": {
          "base_uri": "https://localhost:8080/"
        },
        "id": "v4QDlw4aHi-I",
        "outputId": "25728858-7c8b-4813-b86b-686dec59a6a3"
      },
      "execution_count": 14,
      "outputs": [
        {
          "output_type": "stream",
          "name": "stdout",
          "text": [
            "Area of rectangle: 15\n"
          ]
        }
      ]
    },
    {
      "cell_type": "code",
      "source": [
        "#14) . Create a class Employee with a method calculate_salary() that computes the salary based on hours worked and hourly rate. Create a derived class Manager that adds a bonus to the salary.\n",
        "\n",
        "# Base class\n",
        "class Employee:\n",
        "    def __init__(self, name, hours_worked, hourly_rate):\n",
        "        self.name = name\n",
        "        self.hours_worked = hours_worked\n",
        "        self.hourly_rate = hourly_rate\n",
        "\n",
        "    def calculate_salary(self):\n",
        "        return self.hours_worked * self.hourly_rate\n",
        "\n",
        "# Derived class\n",
        "class Manager(Employee):\n",
        "    def __init__(self, name, hours_worked, hourly_rate, bonus):\n",
        "        super().__init__(name, hours_worked, hourly_rate)\n",
        "        self.bonus = bonus\n",
        "\n",
        "    def calculate_salary(self):\n",
        "        base_salary = super().calculate_salary()\n",
        "        return base_salary + self.bonus\n",
        "\n",
        "# Example usage\n",
        "emp = Employee(\"Alice\", 40, 20)\n",
        "print(f\"{emp.name}'s Salary: {emp.calculate_salary()}\")\n",
        "\n",
        "mgr = Manager(\"Bob\", 40, 30, 500)\n",
        "print(f\"{mgr.name}'s Salary: {mgr.calculate_salary()}\")\n"
      ],
      "metadata": {
        "colab": {
          "base_uri": "https://localhost:8080/"
        },
        "id": "u6mStWmyH7jK",
        "outputId": "bec58c53-30a3-41bf-b36a-4271f7782bd1"
      },
      "execution_count": 15,
      "outputs": [
        {
          "output_type": "stream",
          "name": "stdout",
          "text": [
            "Alice's Salary: 800\n",
            "Bob's Salary: 1700\n"
          ]
        }
      ]
    },
    {
      "cell_type": "code",
      "source": [
        "#15)  Create a class Product with attributes name, price, and quantity. Implement a method total_price() that calculates the total price of the product.\n",
        "\n",
        "class Product:\n",
        "    def __init__(self, name, price, quantity):\n",
        "        self.name = name\n",
        "        self.price = price\n",
        "        self.quantity = quantity\n",
        "\n",
        "    def total_price(self):\n",
        "        return self.price * self.quantity\n",
        "\n",
        "# Example usage\n",
        "p1 = Product(\"Laptop\", 50000, 2)\n",
        "print(f\"Total price for {p1.name}: {p1.total_price()}\")\n",
        "\n",
        "p2 = Product(\"Mouse\", 500, 5)\n",
        "print(f\"Total price for {p2.name}: {p2.total_price()}\")\n"
      ],
      "metadata": {
        "colab": {
          "base_uri": "https://localhost:8080/"
        },
        "id": "FtvwuNOhIVPt",
        "outputId": "da413c0c-5a45-4d6a-eb9b-7039a42e96f2"
      },
      "execution_count": 16,
      "outputs": [
        {
          "output_type": "stream",
          "name": "stdout",
          "text": [
            "Total price for Laptop: 100000\n",
            "Total price for Mouse: 2500\n"
          ]
        }
      ]
    },
    {
      "cell_type": "code",
      "source": [
        "#16)  Create a class Animal with an abstract method sound(). Create two derived classes Cow and Sheep that implement the sound() method.\n",
        "\n",
        "from abc import ABC, abstractmethod\n",
        "\n",
        "# Abstract base class\n",
        "class Animal(ABC):\n",
        "    @abstractmethod\n",
        "    def sound(self):\n",
        "        pass\n",
        "\n",
        "# Derived class: Cow\n",
        "class Cow(Animal):\n",
        "    def sound(self):\n",
        "        print(\"Moo\")\n",
        "\n",
        "# Derived class: Sheep\n",
        "class Sheep(Animal):\n",
        "    def sound(self):\n",
        "        print(\"Baa\")\n",
        "\n",
        "# Example usage\n",
        "cow = Cow()\n",
        "sheep = Sheep()\n",
        "\n",
        "cow.sound()\n",
        "sheep.sound()\n"
      ],
      "metadata": {
        "colab": {
          "base_uri": "https://localhost:8080/"
        },
        "id": "jviOcoqBIjYX",
        "outputId": "0ffec3ae-5f20-471f-8f35-fb40c8c9f70c"
      },
      "execution_count": 17,
      "outputs": [
        {
          "output_type": "stream",
          "name": "stdout",
          "text": [
            "Moo\n",
            "Baa\n"
          ]
        }
      ]
    },
    {
      "cell_type": "code",
      "source": [
        "#17) Create a class Book with attributes title, author, and year_published. Add a method get_book_info() that returns a formatted string with the book's details.\n",
        "\n",
        "class Book:\n",
        "    def __init__(self, title, author, year_published):\n",
        "        self.title = title\n",
        "        self.author = author\n",
        "        self.year_published = year_published\n",
        "\n",
        "    def get_book_info(self):\n",
        "        return f\"'{self.title}' by {self.author} (Published: {self.year_published})\"\n",
        "\n",
        "# Example usage\n",
        "book1 = Book(\"To Kill a Mockingbird\", \"Harper Lee\", 1960)\n",
        "print(book1.get_book_info())\n",
        "\n",
        "book2 = Book(\"1984\", \"George Orwell\", 1949)\n",
        "print(book2.get_book_info())"
      ],
      "metadata": {
        "colab": {
          "base_uri": "https://localhost:8080/"
        },
        "id": "yjl8E9atI40z",
        "outputId": "82abb837-a39d-4bb6-8756-4db2104de042"
      },
      "execution_count": 18,
      "outputs": [
        {
          "output_type": "stream",
          "name": "stdout",
          "text": [
            "'To Kill a Mockingbird' by Harper Lee (Published: 1960)\n",
            "'1984' by George Orwell (Published: 1949)\n"
          ]
        }
      ]
    },
    {
      "cell_type": "code",
      "source": [
        "#18)  Create a class House with attributes address and price. Create a derived class Mansion that adds an attribute number_of_rooms.\n",
        "\n",
        "# Base class\n",
        "class House:\n",
        "    def __init__(self, address, price):\n",
        "        self.address = address\n",
        "        self.price = price\n",
        "\n",
        "# Derived class\n",
        "class Mansion(House):\n",
        "    def __init__(self, address, price, number_of_rooms):\n",
        "        super().__init__(address, price)\n",
        "        self.number_of_rooms = number_of_rooms\n",
        "\n",
        "# Example usage\n",
        "house = House(\"123 Main St\", 250000)\n",
        "print(f\"House at {house.address} costs {house.price}\")\n",
        "\n",
        "mansion = Mansion(\"456 Grand Ave\", 2000000, 12)\n",
        "print(f\"Mansion at {mansion.address} costs {mansion.price} and has {mansion.number_of_rooms} rooms.\")\n"
      ],
      "metadata": {
        "colab": {
          "base_uri": "https://localhost:8080/"
        },
        "id": "IuJV0pOfJP3k",
        "outputId": "2997ec70-5b62-4015-e12e-97afdaa78840"
      },
      "execution_count": 19,
      "outputs": [
        {
          "output_type": "stream",
          "name": "stdout",
          "text": [
            "House at 123 Main St costs 250000\n",
            "Mansion at 456 Grand Ave costs 2000000 and has 12 rooms.\n"
          ]
        }
      ]
    }
  ]
}